{
 "cells": [
  {
   "cell_type": "markdown",
   "metadata": {},
   "source": [
    "# We use # symbol to put comment for single line <hr>"
   ]
  },
  {
   "cell_type": "code",
   "execution_count": 118,
   "metadata": {},
   "outputs": [
    {
     "name": "stdout",
     "output_type": "stream",
     "text": [
      "x =  10\n"
     ]
    }
   ],
   "source": [
    "#creating variables\n",
    "#------------------\n",
    "\n",
    "x = 10                                                                                                                                                         \n",
    "\n",
    "#printing variable values\n",
    "print(\"x = \", x )"
   ]
  },
  {
   "cell_type": "code",
   "execution_count": 119,
   "metadata": {},
   "outputs": [
    {
     "data": {
      "text/plain": [
       "2"
      ]
     },
     "execution_count": 119,
     "metadata": {},
     "output_type": "execute_result"
    }
   ],
   "source": [
    "name = 2\n",
    "name"
   ]
  },
  {
   "cell_type": "markdown",
   "metadata": {},
   "source": [
    "# Data type in python<hr>"
   ]
  },
  {
   "cell_type": "markdown",
   "metadata": {},
   "source": [
    "# String"
   ]
  },
  {
   "cell_type": "code",
   "execution_count": 120,
   "metadata": {},
   "outputs": [
    {
     "name": "stdout",
     "output_type": "stream",
     "text": [
      "KUNDAN\n"
     ]
    }
   ],
   "source": [
    "#Declaring a string \n",
    "str = \"KUNDAN\"\n",
    "print(str)"
   ]
  },
  {
   "cell_type": "code",
   "execution_count": 121,
   "metadata": {},
   "outputs": [
    {
     "name": "stdout",
     "output_type": "stream",
     "text": [
      "KUNDAN KUMAR\n"
     ]
    }
   ],
   "source": [
    "FName = 'KUNDAN'\n",
    "LName = 'KUMAR'\n",
    "\n",
    "#Concatenation\n",
    "#concatenate first name and last name with white space between them\n",
    "Fullname = FName +' '+ LName \n",
    "print(Fullname)\n",
    "\n",
    "\n"
   ]
  },
  {
   "cell_type": "code",
   "execution_count": 122,
   "metadata": {},
   "outputs": [
    {
     "name": "stdout",
     "output_type": "stream",
     "text": [
      "KUNDAN KUMAR KUNDAN KUMAR \n"
     ]
    }
   ],
   "source": [
    "#To repeat a string twice\n",
    "print((Fullname+' ') * 2)"
   ]
  },
  {
   "cell_type": "code",
   "execution_count": 123,
   "metadata": {},
   "outputs": [
    {
     "data": {
      "text/plain": [
       "'UNDA'"
      ]
     },
     "execution_count": 123,
     "metadata": {},
     "output_type": "execute_result"
    }
   ],
   "source": [
    "#Slicing a string\n",
    "substr = FName[1:5]\n",
    "substr"
   ]
  },
  {
   "cell_type": "code",
   "execution_count": 124,
   "metadata": {},
   "outputs": [
    {
     "name": "stdout",
     "output_type": "stream",
     "text": [
      "KUNDA\n",
      "NU\n",
      "NU\n"
     ]
    }
   ],
   "source": [
    "#Indexing a string\n",
    "\n",
    "print(FName[-6:-1])\n",
    "\n",
    "print(FName[-1] + FName[-5])\n",
    "print(FName[-1] + FName[1])"
   ]
  },
  {
   "cell_type": "code",
   "execution_count": 125,
   "metadata": {},
   "outputs": [
    {
     "data": {
      "text/plain": [
       "36"
      ]
     },
     "execution_count": 125,
     "metadata": {},
     "output_type": "execute_result"
    }
   ],
   "source": [
    "#Find string\n",
    "p  = \"\"\"How are you today?\n",
    "Beter than you, \n",
    "cool\"\"\"\n",
    "p.find('cool')"
   ]
  },
  {
   "cell_type": "code",
   "execution_count": 126,
   "metadata": {},
   "outputs": [
    {
     "data": {
      "text/plain": [
       "'How are you today?\\nBeter than you, \\nGreat'"
      ]
     },
     "execution_count": 126,
     "metadata": {},
     "output_type": "execute_result"
    }
   ],
   "source": [
    "#Replace\n",
    "p1 = p.replace(\"cool\",\"Great\")\n",
    "p1"
   ]
  },
  {
   "cell_type": "code",
   "execution_count": 127,
   "metadata": {},
   "outputs": [
    {
     "data": {
      "text/plain": [
       "'How'"
      ]
     },
     "execution_count": 127,
     "metadata": {},
     "output_type": "execute_result"
    }
   ],
   "source": [
    "#Strip()\n",
    "p[:4].strip()"
   ]
  },
  {
   "cell_type": "code",
   "execution_count": 128,
   "metadata": {},
   "outputs": [
    {
     "data": {
      "text/plain": [
       "2"
      ]
     },
     "execution_count": 128,
     "metadata": {},
     "output_type": "execute_result"
    }
   ],
   "source": [
    "#Counting str using count()\n",
    "p.count(\"you\")"
   ]
  },
  {
   "cell_type": "markdown",
   "metadata": {},
   "source": [
    "# Tuples\n",
    "###### Tuples is sequence of immutable python object like floating number, string , etc Tuples sequences, just like list It allows duplicates member"
   ]
  },
  {
   "cell_type": "markdown",
   "metadata": {},
   "source": [
    "# Creating tuple"
   ]
  },
  {
   "cell_type": "code",
   "execution_count": 129,
   "metadata": {},
   "outputs": [
    {
     "data": {
      "text/plain": [
       "('Eric', 'John', 'Linda', 'Marry', 'Eric', 'Claude')"
      ]
     },
     "execution_count": 129,
     "metadata": {},
     "output_type": "execute_result"
    }
   ],
   "source": [
    "studen_list = ('Eric','John','Linda','Marry','Eric','Claude')\n",
    "studen_list"
   ]
  },
  {
   "cell_type": "code",
   "execution_count": 130,
   "metadata": {},
   "outputs": [
    {
     "data": {
      "text/plain": [
       "('Eric', 'John', 'Linda', 'Marry', 'Eric', 'Claude', 'Patrick', 'Kundan')"
      ]
     },
     "execution_count": 130,
     "metadata": {},
     "output_type": "execute_result"
    }
   ],
   "source": [
    "# Tuple operations\n",
    "\n",
    "#Concatenation\n",
    "\n",
    "studen_list + ('Patrick','Kundan')"
   ]
  },
  {
   "cell_type": "code",
   "execution_count": 131,
   "metadata": {},
   "outputs": [
    {
     "data": {
      "text/plain": [
       "('Eric',\n",
       " 'John',\n",
       " 'Linda',\n",
       " 'Marry',\n",
       " 'Eric',\n",
       " 'Claude',\n",
       " 'Patrick',\n",
       " 'Kundan',\n",
       " 'Eric',\n",
       " 'John',\n",
       " 'Linda',\n",
       " 'Marry',\n",
       " 'Eric',\n",
       " 'Claude',\n",
       " 'Patrick',\n",
       " 'Kundan')"
      ]
     },
     "execution_count": 131,
     "metadata": {},
     "output_type": "execute_result"
    }
   ],
   "source": [
    "# Repetition\n",
    "(studen_list+('Patrick','Kundan'))*2"
   ]
  },
  {
   "cell_type": "code",
   "execution_count": 132,
   "metadata": {},
   "outputs": [
    {
     "data": {
      "text/plain": [
       "('John', 'Linda')"
      ]
     },
     "execution_count": 132,
     "metadata": {},
     "output_type": "execute_result"
    }
   ],
   "source": [
    "# Slicing\n",
    "\n",
    "studen_list[1:3]"
   ]
  },
  {
   "cell_type": "code",
   "execution_count": 133,
   "metadata": {},
   "outputs": [
    {
     "data": {
      "text/plain": [
       "'Claude'"
      ]
     },
     "execution_count": 133,
     "metadata": {},
     "output_type": "execute_result"
    }
   ],
   "source": [
    "#Indexing\n",
    "studen_list[-1]"
   ]
  },
  {
   "cell_type": "markdown",
   "metadata": {},
   "source": [
    "# LIST"
   ]
  },
  {
   "cell_type": "code",
   "execution_count": 134,
   "metadata": {},
   "outputs": [
    {
     "name": "stdout",
     "output_type": "stream",
     "text": [
      "Original list: \n",
      "=============\n",
      " ['Kumar', 3.6, 'Learning Python']\n"
     ]
    }
   ],
   "source": [
    "#Creating list\n",
    "\n",
    "myList = ['Kumar',3.6,'Learning Python']\n",
    "print(\"Original list: \\n=============\\n\" ,myList)\n"
   ]
  },
  {
   "cell_type": "markdown",
   "metadata": {},
   "source": [
    "# List Operations"
   ]
  },
  {
   "cell_type": "code",
   "execution_count": 135,
   "metadata": {},
   "outputs": [
    {
     "name": "stdout",
     "output_type": "stream",
     "text": [
      "Appended list: \n",
      "=============\n",
      " ['Kumar', 3.6, 'Learning Python', 'Eric']\n"
     ]
    }
   ],
   "source": [
    "# Append\n",
    "myList.append(\"Eric\")\n",
    "print(\"Appended list: \\n=============\\n\",myList)\n"
   ]
  },
  {
   "cell_type": "code",
   "execution_count": 136,
   "metadata": {},
   "outputs": [
    {
     "name": "stdout",
     "output_type": "stream",
     "text": [
      "extended list: \n",
      "=============\n",
      " ['Kumar', 3.6, 'Learning Python', 'Eric', 'Mukesha', 3.9]\n"
     ]
    }
   ],
   "source": [
    "#  Extend list\n",
    "myList.extend(['Mukesha',3.9])\n",
    "print(\"extended list: \\n=============\\n\",myList)"
   ]
  },
  {
   "cell_type": "code",
   "execution_count": 137,
   "metadata": {},
   "outputs": [
    {
     "name": "stdout",
     "output_type": "stream",
     "text": [
      "list with new inserted item: \n",
      "=============\n",
      " ['kundan', 'Kumar', 3.6, 'Learning Python', 'Eric', 'Mukesha', 3.9]\n"
     ]
    }
   ],
   "source": [
    "#Insert new element in existing list\n",
    "myList.insert(0,'kundan')\n",
    "print(\"list with new inserted item: \\n=============\\n\",myList)"
   ]
  },
  {
   "cell_type": "code",
   "execution_count": 138,
   "metadata": {},
   "outputs": [
    {
     "name": "stdout",
     "output_type": "stream",
     "text": [
      "list after poping: \n",
      "=============\n",
      " ['kundan', 'Kumar', 3.6, 'Learning Python', 'Mukesha', 3.9]\n"
     ]
    }
   ],
   "source": [
    "# pop item in list (Read element from list and remove)\n",
    "myList.pop(4)\n",
    "print(\"list after poping: \\n=============\\n\",myList)"
   ]
  },
  {
   "cell_type": "code",
   "execution_count": 139,
   "metadata": {},
   "outputs": [
    {
     "name": "stdout",
     "output_type": "stream",
     "text": [
      "list after removing 'Mukesha': \n",
      "=============\n",
      " ['kundan', 'Kumar', 3.6, 'Learning Python', 3.9]\n"
     ]
    }
   ],
   "source": [
    "#Remove item in list\n",
    "myList.remove('Mukesha')\n",
    "print(\"list after removing 'Mukesha': \\n=============\\n\",myList)"
   ]
  },
  {
   "cell_type": "code",
   "execution_count": null,
   "metadata": {},
   "outputs": [],
   "source": []
  },
  {
   "cell_type": "markdown",
   "metadata": {},
   "source": [
    "# SETS"
   ]
  },
  {
   "cell_type": "code",
   "execution_count": 140,
   "metadata": {},
   "outputs": [
    {
     "data": {
      "text/plain": [
       "{5, 7, 22, 23, 33}"
      ]
     },
     "execution_count": 140,
     "metadata": {},
     "output_type": "execute_result"
    }
   ],
   "source": [
    "sets = {7,23,33,22,22,33,5}\n",
    "sets"
   ]
  },
  {
   "cell_type": "code",
   "execution_count": 141,
   "metadata": {},
   "outputs": [
    {
     "name": "stdout",
     "output_type": "stream",
     "text": [
      "mySet1:  {1, 3, 4, 9, 52}\n",
      "mySet2:  {1, 3, 7, 9, 45}\n"
     ]
    }
   ],
   "source": [
    "#creating a set\n",
    "mySet1 = {9,1,4,52,3}\n",
    "mySet2 = {9,1,7,45,3}\n",
    "set1 = mySet1.copy()\n",
    "\n",
    "#Print set\n",
    "print(\"mySet1: \",mySet1)\n",
    "print(\"mySet2: \",mySet2)"
   ]
  },
  {
   "cell_type": "code",
   "execution_count": 142,
   "metadata": {},
   "outputs": [
    {
     "name": "stdout",
     "output_type": "stream",
     "text": [
      "Union between mySet1 and mySet2 is :  {1, 3, 4, 7, 9, 45, 52}\n"
     ]
    }
   ],
   "source": [
    "#Union between two different sets\n",
    "unionSet = mySet1 | mySet2\n",
    "print(\"Union between mySet1 and mySet2 is : \",unionSet)"
   ]
  },
  {
   "cell_type": "code",
   "execution_count": 143,
   "metadata": {},
   "outputs": [
    {
     "name": "stdout",
     "output_type": "stream",
     "text": [
      "Intersection between mySet1 and mySet22 is :  {1, 3, 9}\n"
     ]
    }
   ],
   "source": [
    "#Intersection between different sets\n",
    "intersection = mySet1 & mySet2\n",
    "print(\"Intersection between mySet1 and mySet22 is : \", intersection)"
   ]
  },
  {
   "cell_type": "code",
   "execution_count": 144,
   "metadata": {},
   "outputs": [
    {
     "name": "stdout",
     "output_type": "stream",
     "text": [
      "Difference between mySet1 and mySet2 {4, 52}\n"
     ]
    }
   ],
   "source": [
    "#Difference, we use minus Operator\n",
    "difference = mySet1 - mySet2\n",
    "print(\"Difference between mySet1 and mySet2\", difference)\n"
   ]
  },
  {
   "cell_type": "code",
   "execution_count": 145,
   "metadata": {},
   "outputs": [
    {
     "name": "stdout",
     "output_type": "stream",
     "text": [
      "mySet1 aftter adding one item:  {1, 3, 4, 100, 9, 52}\n",
      "mySet1 aftter adding more item:  {1, 3, 4, 100, 9, 12, 78, 52, 23, 56}\n"
     ]
    }
   ],
   "source": [
    "#Add element into set\n",
    "#There are two function to add element into set\n",
    "#add() - it allows to add one item at time\n",
    "#update() - it allows to add more element at time\n",
    "\n",
    "mySet1.add(100)\n",
    "print(\"mySet1 aftter adding one item: \", mySet1)\n",
    "\n",
    "# adding more than omne elements\n",
    "mySet1.update({12,23,56,78})\n",
    "print(\"mySet1 aftter adding more item: \", mySet1)\n"
   ]
  },
  {
   "cell_type": "code",
   "execution_count": 146,
   "metadata": {},
   "outputs": [
    {
     "name": "stdout",
     "output_type": "stream",
     "text": [
      "mySet1 after removing item (100) :  {1, 3, 4, 9, 12, 78, 52, 23, 56}\n",
      "mySet1 after discarding an item (100) :  {1, 3, 4, 9, 12, 78, 52, 23, 56}\n"
     ]
    }
   ],
   "source": [
    "#Remove an item from a set\n",
    "#There are two functions for removing item from set\n",
    "#remove() - it remove element which is member of set or raise error key if element does'not exist\n",
    "#discard() - It remove an element but does not throw error if element to be removed does not exist.\n",
    "\n",
    "#removing an item using remove() function\n",
    "mySet1.remove(100)\n",
    "print(\"mySet1 after removing item (100) : \",mySet1)\n",
    "\n",
    "#removing an item using discard() function\n",
    "mySet1.discard(100)\n",
    "print(\"mySet1 after discarding an item (100) : \",mySet1)"
   ]
  },
  {
   "cell_type": "markdown",
   "metadata": {},
   "source": [
    "# difference between clear and del function"
   ]
  },
  {
   "cell_type": "code",
   "execution_count": null,
   "metadata": {},
   "outputs": [],
   "source": [
    "#creating new set\n",
    "\n",
    "x = {1,2,23,45}"
   ]
  },
  {
   "cell_type": "code",
   "execution_count": 147,
   "metadata": {},
   "outputs": [
    {
     "name": "stdout",
     "output_type": "stream",
     "text": [
      "X before cleaning X =  {1, 2, 45, 23}\n",
      "After cleaning X= set()\n"
     ]
    }
   ],
   "source": [
    "# clear() function\n",
    "\n",
    "print(\"X before cleaning X = \",x)\n",
    "\n",
    "#After cleaning\n",
    "x.clear()\n",
    "print(\"After cleaning X=\",x)"
   ]
  },
  {
   "cell_type": "code",
   "execution_count": null,
   "metadata": {},
   "outputs": [],
   "source": [
    "#del() function\n",
    "\n",
    "\n"
   ]
  },
  {
   "cell_type": "markdown",
   "metadata": {},
   "source": [
    "# DICTIONNAIRIES <hr>"
   ]
  },
  {
   "cell_type": "code",
   "execution_count": 158,
   "metadata": {},
   "outputs": [],
   "source": [
    "#Creating dictionary\n",
    "\n",
    "classDict = {\n",
    "            'username':'Alex',\n",
    "            'RegNo':22100278,\n",
    "            'Age'  :25\n",
    "}\n",
    "classDict"
   ]
  },
  {
   "cell_type": "code",
   "execution_count": 166,
   "metadata": {},
   "outputs": [
    {
     "data": {
      "text/plain": [
       "{'username': 'Patrick', 'RegNo': 22100278, 'Age': 25}"
      ]
     },
     "execution_count": 166,
     "metadata": {},
     "output_type": "execute_result"
    }
   ],
   "source": [
    "#To test dictionary doesn't support duplicates\n",
    "\n",
    "classDict2 = {\n",
    "            'username':'Alex',\n",
    "            'RegNo':22100278,\n",
    "            'Age'  :25,\n",
    "            'username':'Patrick'\n",
    "}\n",
    "classDict2"
   ]
  },
  {
   "cell_type": "code",
   "execution_count": 177,
   "metadata": {},
   "outputs": [
    {
     "data": {
      "text/plain": [
       "{'Names': ['Patrick', 'Kundan', 'Kabano'],\n",
       " 'RegNo': [221000278, 221000279, 221000280],\n",
       " 'Ages': [15, 45, 74]}"
      ]
     },
     "execution_count": 177,
     "metadata": {},
     "output_type": "execute_result"
    }
   ],
   "source": [
    "#Add more than one names\n",
    "classDict3 = {\n",
    "              'Names': ['Patrick','Kundan','Kabano'], \n",
    "              'RegNo': [221000278,221000279,221000280],\n",
    "             'Ages'  : [15,45,74]\n",
    "}\n",
    "\n",
    "#print dictionary\n",
    "classDict3"
   ]
  },
  {
   "cell_type": "code",
   "execution_count": 179,
   "metadata": {},
   "outputs": [
    {
     "name": "stdout",
     "output_type": "stream",
     "text": [
      "Names stored in this dictionary are :  ['Patrick', 'Kundan', 'Kabano']\n",
      "Length of dictionary is =  3\n",
      "Keys of dictionary are :  dict_keys(['Names', 'RegNo', 'Ages'])\n",
      "Different values in dictionary are:  dict_values([['Patrick', 'Kundan', 'Kabano'], [221000278, 221000279, 221000280], [15, 45, 74]])\n"
     ]
    }
   ],
   "source": [
    "#Operations on |Dictionaries\n",
    "\n",
    "#Accessing dictionary by key\n",
    "\n",
    "print(\"Names stored in this dictionary are : \",classDict3['Names'])\n",
    "\n",
    "\n",
    "# To calculate Length of dictionary\n",
    "print(\"Length of dictionary is = \",len(classDict3))\n",
    "\n",
    "# To know what different keys of dictionary\n",
    "print(\"Keys of dictionary are : \" ,classDict3.keys())\n",
    "\n",
    "#To know differenet values in dictionary\n",
    "\n",
    "print(\"Different values in dictionary are: \",classDict3.values())"
   ]
  },
  {
   "cell_type": "code",
   "execution_count": null,
   "metadata": {},
   "outputs": [],
   "source": []
  }
 ],
 "metadata": {
  "kernelspec": {
   "display_name": "Python 3",
   "language": "python",
   "name": "python3"
  },
  "language_info": {
   "codemirror_mode": {
    "name": "ipython",
    "version": 3
   },
   "file_extension": ".py",
   "mimetype": "text/x-python",
   "name": "python",
   "nbconvert_exporter": "python",
   "pygments_lexer": "ipython3",
   "version": "3.8.3"
  }
 },
 "nbformat": 4,
 "nbformat_minor": 4
}
