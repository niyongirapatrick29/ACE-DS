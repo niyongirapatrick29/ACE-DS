{
 "cells": [
  {
   "cell_type": "markdown",
   "metadata": {},
   "source": [
    "# PYTHON FLOW CONTROL<hr>"
   ]
  },
  {
   "cell_type": "markdown",
   "metadata": {},
   "source": [
    "# if conditional statement"
   ]
  },
  {
   "cell_type": "code",
   "execution_count": null,
   "metadata": {},
   "outputs": [],
   "source": [
    "if 2>3:\n",
    "    print(\"Yes 2>3\")\n",
    "    \n",
    "print(\"No 2 is not grater than 3\")"
   ]
  },
  {
   "cell_type": "markdown",
   "metadata": {},
   "source": [
    "# if else statement"
   ]
  },
  {
   "cell_type": "code",
   "execution_count": null,
   "metadata": {},
   "outputs": [],
   "source": [
    "if 2>2:\n",
    "    print(\"Yes 2 is greater than 3\")\n",
    "elif 2<2:\n",
    "    print(\"yes 2 is less than 3\")\n",
    "else:\n",
    "    print(\"Equal\")"
   ]
  },
  {
   "cell_type": "markdown",
   "metadata": {},
   "source": [
    "# Assignment To do\n",
    "### write a pytho script to find the given number is odd or even"
   ]
  },
  {
   "cell_type": "code",
   "execution_count": null,
   "metadata": {
    "scrolled": true
   },
   "outputs": [],
   "source": [
    "a = 15\n",
    "\n",
    "if a%2==0:\n",
    "    print(\"is an even number\")\n",
    "else:\n",
    "    print('is an odd number')"
   ]
  },
  {
   "cell_type": "markdown",
   "metadata": {},
   "source": [
    "####1.write a to read integer number from user and check if is even or odd"
   ]
  },
  {
   "cell_type": "code",
   "execution_count": null,
   "metadata": {},
   "outputs": [],
   "source": [
    "a = int(input(\"Enter an integer number: \"))\n",
    "\n",
    "if a%2==0:\n",
    "    print(\"is an even number\")\n",
    "    else:\n",
    "        print('is an odd number')\n",
    "else:\n",
    "    print(\"Zero\")"
   ]
  },
  {
   "cell_type": "markdown",
   "metadata": {},
   "source": [
    "#### 2.Write python script to read an integer number from keboard and check if number is positive, negative, or if number is zero using nested if -- else"
   ]
  },
  {
   "cell_type": "code",
   "execution_count": null,
   "metadata": {},
   "outputs": [],
   "source": [
    "num = int(input(\"Enter an integer number\"))\n",
    "\n",
    "if num>=0:\n",
    "    if num!=0:\n",
    "        print(\"Positive\")\n",
    "    else:\n",
    "        print(\"Zero\")\n",
    "else:\n",
    "    print(\"Negative\")"
   ]
  },
  {
   "cell_type": "code",
   "execution_count": null,
   "metadata": {},
   "outputs": [],
   "source": [
    "# nested if condition"
   ]
  },
  {
   "cell_type": "code",
   "execution_count": null,
   "metadata": {},
   "outputs": [],
   "source": [
    "num = int(input(\"Enter an integer number\"))\n",
    "\n",
    "if num>0:\n",
    "    print(\"Positive\")\n",
    "elif num==0:\n",
    "    print(\"Zero\")\n",
    "else:\n",
    "    print(\"Negative\")"
   ]
  },
  {
   "cell_type": "markdown",
   "metadata": {},
   "source": [
    "# LOOPING IN PYTHON<hr>\n",
    "### 1.FOR LOOP"
   ]
  },
  {
   "cell_type": "code",
   "execution_count": null,
   "metadata": {},
   "outputs": [],
   "source": [
    "#for looping in string\n",
    "str1 = input('Enter a string: ')\n",
    "\n",
    "for x in str1:\n",
    "    print(x)"
   ]
  },
  {
   "cell_type": "code",
   "execution_count": null,
   "metadata": {},
   "outputs": [],
   "source": [
    "# exercises 1\n",
    "\n",
    "Student_list = [\"Alex\",\"Emmanuel\",\"Charles\",\"Kundan\"]\n",
    "\n",
    "for name in Student_list:\n",
    "    print(name)"
   ]
  },
  {
   "cell_type": "code",
   "execution_count": null,
   "metadata": {},
   "outputs": [],
   "source": [
    "# exercise 2\n",
    "# T calculate average of given list\n",
    "x = [2,5,6,8]\n",
    "counter = 0\n",
    "total = 0\n",
    "\n",
    "for k in x:\n",
    "    total += k\n",
    "    counter +=1\n",
    "    \n",
    "aver = total/counter\n",
    "\n",
    "print(aver)"
   ]
  },
  {
   "cell_type": "markdown",
   "metadata": {},
   "source": [
    "# for loop with range() function"
   ]
  },
  {
   "cell_type": "code",
   "execution_count": null,
   "metadata": {},
   "outputs": [],
   "source": [
    "# for loop with range() function\n",
    "\n",
    "for i in range(5,20,3):\n",
    "    print(i)"
   ]
  },
  {
   "cell_type": "code",
   "execution_count": null,
   "metadata": {},
   "outputs": [],
   "source": [
    "print(range(10))"
   ]
  },
  {
   "cell_type": "code",
   "execution_count": null,
   "metadata": {},
   "outputs": [],
   "source": [
    "print(list(range(10)))"
   ]
  },
  {
   "cell_type": "markdown",
   "metadata": {},
   "source": [
    "# Looping in Dictionary\n",
    "### Iterate through dictionary"
   ]
  },
  {
   "cell_type": "code",
   "execution_count": null,
   "metadata": {},
   "outputs": [],
   "source": [
    "#Creating dictionary\n",
    "\n",
    "myDict = {\n",
    "    'names':['Patrick','Kundan','Kabano','Charles'],\n",
    "    'Ages':[12,32,44,55,]\n",
    "}\n",
    "\n",
    "print(\"Keys \\n=====================\\n\")\n",
    "for d in myDict: #default they read keys only\n",
    "    print(d)\n",
    "\n",
    "print('\\n')\n",
    "\n",
    "print(\"keys  \\n=====================\\n\")    \n",
    "for d in myDict.keys(): #they read keys only\n",
    "    print(d)\n",
    "\n",
    "print('\\n')\n",
    "\n",
    "print(\"Values only \\n=====================\\n\")\n",
    "for d in myDict.values(): #they read values only\n",
    "    print(d)\n",
    "print('\\n')\n",
    "\n",
    "\n",
    "print(\"Items \\n===================== \\n\")    \n",
    "for i,k in myDict.items(): #they read keys and values\n",
    "    print(i,k)\n",
    "    \n",
    "    "
   ]
  },
  {
   "cell_type": "markdown",
   "metadata": {},
   "source": [
    "# for loop with else"
   ]
  },
  {
   "cell_type": "code",
   "execution_count": null,
   "metadata": {},
   "outputs": [],
   "source": [
    "student_list2 = ['Patrick','Kundan','Kabano','Charles']\n",
    "\n",
    "for name in student_list2:\n",
    "    print(name)\n",
    "else:\n",
    "    print('\\nNo name left')"
   ]
  },
  {
   "cell_type": "markdown",
   "metadata": {},
   "source": [
    "# While loop"
   ]
  },
  {
   "cell_type": "code",
   "execution_count": null,
   "metadata": {},
   "outputs": [],
   "source": [
    "#Program to print 0 to 10\n",
    "n = 10\n",
    "#initialize counter\n",
    "i = 0\n",
    "while i <= n:\n",
    "    print(i, end=\" \")\n",
    "    i+=1"
   ]
  },
  {
   "cell_type": "code",
   "execution_count": null,
   "metadata": {},
   "outputs": [],
   "source": [
    "# write a pytho script program to print even number between 10 & 100\n",
    "\n",
    "n=20\n",
    "i=10\n",
    "while i <= n:\n",
    "    if i%2 ==0:\n",
    "        print(i)\n",
    "    i +=1"
   ]
  },
  {
   "cell_type": "code",
   "execution_count": 4,
   "metadata": {},
   "outputs": [
    {
     "name": "stdout",
     "output_type": "stream",
     "text": [
      "1 2 3 4 5 6 7 8 9 10 "
     ]
    }
   ],
   "source": [
    "# break statement within a loop\n",
    "\n",
    "n=13\n",
    "i=1\n",
    "\n",
    "while i<=n:\n",
    "    if i==11:\n",
    "        break\n",
    "    print(i, end=\" \")\n",
    "    i +=1"
   ]
  },
  {
   "cell_type": "code",
   "execution_count": 7,
   "metadata": {},
   "outputs": [
    {
     "name": "stdout",
     "output_type": "stream",
     "text": [
      "1,2,3,4,5,6,7,8,9,10,12,13\n"
     ]
    }
   ],
   "source": [
    "# Continue statement within a loop\n",
    "\n",
    "n=13\n",
    "i=1\n",
    "\n",
    "while i<n:\n",
    "    if i==11:\n",
    "        i +=1\n",
    "        continue\n",
    "    print(i, end=\",\")\n",
    "    i +=1\n",
    "print(n)"
   ]
  },
  {
   "cell_type": "code",
   "execution_count": 8,
   "metadata": {},
   "outputs": [],
   "source": [
    "# pass statement in python\n",
    "# in loop\n",
    "\n",
    "for val in list(range(10)):\n",
    "    pass\n",
    "\n",
    "# in function\n",
    "def myfu"
   ]
  },
  {
   "cell_type": "code",
   "execution_count": null,
   "metadata": {},
   "outputs": [],
   "source": []
  }
 ],
 "metadata": {
  "kernelspec": {
   "display_name": "Python 3",
   "language": "python",
   "name": "python3"
  },
  "language_info": {
   "codemirror_mode": {
    "name": "ipython",
    "version": 3
   },
   "file_extension": ".py",
   "mimetype": "text/x-python",
   "name": "python",
   "nbconvert_exporter": "python",
   "pygments_lexer": "ipython3",
   "version": "3.8.3"
  }
 },
 "nbformat": 4,
 "nbformat_minor": 4
}
