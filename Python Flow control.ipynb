{
 "cells": [
  {
   "cell_type": "markdown",
   "metadata": {},
   "source": [
    "# PYTHON FLOW CONTROL<hr>"
   ]
  },
  {
   "cell_type": "markdown",
   "metadata": {},
   "source": [
    "# if conditional statement"
   ]
  },
  {
   "cell_type": "code",
   "execution_count": null,
   "metadata": {},
   "outputs": [],
   "source": [
    "if 2>3:\n",
    "    print(\"Yes 2>3\")\n",
    "    \n",
    "print(\"No 2 is not grater than 3\")"
   ]
  },
  {
   "cell_type": "markdown",
   "metadata": {},
   "source": [
    "# if else statement"
   ]
  },
  {
   "cell_type": "code",
   "execution_count": null,
   "metadata": {},
   "outputs": [],
   "source": [
    "if 2>2:\n",
    "    print(\"Yes 2 is greater than 3\")\n",
    "elif 2<2:\n",
    "    print(\"yes 2 is less than 3\")\n",
    "else:\n",
    "    print(\"Equal\")"
   ]
  },
  {
   "cell_type": "markdown",
   "metadata": {},
   "source": [
    "# Assignment To do\n",
    "### write a pytho script to find the given number is odd or even"
   ]
  },
  {
   "cell_type": "code",
   "execution_count": null,
   "metadata": {
    "scrolled": true
   },
   "outputs": [],
   "source": [
    "a = 15\n",
    "\n",
    "if a%2==0:\n",
    "    print(\"is an even number\")\n",
    "else:\n",
    "    print('is an odd number')"
   ]
  },
  {
   "cell_type": "markdown",
   "metadata": {},
   "source": [
    "####1.write a to read integer number from user and check if is even or odd"
   ]
  },
  {
   "cell_type": "code",
   "execution_count": 5,
   "metadata": {},
   "outputs": [
    {
     "name": "stdout",
     "output_type": "stream",
     "text": [
      "Enter an integer number: 45\n",
      "is an odd number\n"
     ]
    }
   ],
   "source": [
    "a = int(input(\"Enter an integer number: \"))\n",
    "\n",
    "if a%2==0:\n",
    "    print(\"is an even number\")\n",
    "    else:\n",
    "        print('is an odd number')\n",
    "else:\n",
    "    print(\"Zero\")"
   ]
  },
  {
   "cell_type": "markdown",
   "metadata": {},
   "source": [
    "#### 2.Write python script to read an integer number from keboard and check if number is positive, negative, or if number is zero using nested if -- else"
   ]
  },
  {
   "cell_type": "code",
   "execution_count": 14,
   "metadata": {},
   "outputs": [
    {
     "name": "stdout",
     "output_type": "stream",
     "text": [
      "Enter an integer number-5\n",
      "Negative\n"
     ]
    }
   ],
   "source": [
    "num = int(input(\"Enter an integer number\"))\n",
    "\n",
    "if num>=0:\n",
    "    if num!=0:\n",
    "        print(\"Positive\")\n",
    "    else:\n",
    "        print(\"Zero\")\n",
    "else:\n",
    "    print(\"Negative\")"
   ]
  },
  {
   "cell_type": "code",
   "execution_count": 4,
   "metadata": {},
   "outputs": [],
   "source": [
    "# nested if condition"
   ]
  },
  {
   "cell_type": "code",
   "execution_count": 3,
   "metadata": {},
   "outputs": [
    {
     "name": "stdout",
     "output_type": "stream",
     "text": [
      "Enter an integer number-56\n",
      "Negative\n"
     ]
    }
   ],
   "source": [
    "num = int(input(\"Enter an integer number\"))\n",
    "\n",
    "if num>0:\n",
    "    print(\"Positive\")\n",
    "elif num==0:\n",
    "    print(\"Zero\")\n",
    "else:\n",
    "    print(\"Negative\")"
   ]
  },
  {
   "cell_type": "markdown",
   "metadata": {},
   "source": [
    "# LOOPING IN PYTHON<hr>\n",
    "### 1.FOR LOOP"
   ]
  },
  {
   "cell_type": "code",
   "execution_count": 6,
   "metadata": {},
   "outputs": [
    {
     "name": "stdout",
     "output_type": "stream",
     "text": [
      "Enter a string you want: Claude\n",
      "C\n",
      "l\n",
      "a\n",
      "u\n",
      "d\n",
      "e\n"
     ]
    }
   ],
   "source": [
    "#for looping in string\n",
    "str1 = input('Enter a string: ')\n",
    "\n",
    "for x in str1:\n",
    "    print(x)"
   ]
  },
  {
   "cell_type": "code",
   "execution_count": 8,
   "metadata": {},
   "outputs": [
    {
     "name": "stdout",
     "output_type": "stream",
     "text": [
      "Alex\n",
      "Emmanuel\n",
      "Charles\n",
      "Kundan\n"
     ]
    }
   ],
   "source": [
    "# exercises 1\n",
    "\n",
    "Student_list = [\"Alex\",\"Emmanuel\",\"Charles\",\"Kundan\"]\n",
    "\n",
    "for name in Student_list:\n",
    "    print(name)"
   ]
  },
  {
   "cell_type": "code",
   "execution_count": 10,
   "metadata": {},
   "outputs": [
    {
     "name": "stdout",
     "output_type": "stream",
     "text": [
      "5.25\n"
     ]
    }
   ],
   "source": [
    "# exercise 2\n",
    "# T calculate average of given list\n",
    "x = [2,5,6,8]\n",
    "counter = 0\n",
    "total = 0\n",
    "\n",
    "for k in x:\n",
    "    total += k\n",
    "    counter +=1\n",
    "    \n",
    "aver = total/counter\n",
    "\n",
    "print(aver)"
   ]
  },
  {
   "cell_type": "code",
   "execution_count": null,
   "metadata": {},
   "outputs": [],
   "source": []
  }
 ],
 "metadata": {
  "kernelspec": {
   "display_name": "Python 3",
   "language": "python",
   "name": "python3"
  },
  "language_info": {
   "codemirror_mode": {
    "name": "ipython",
    "version": 3
   },
   "file_extension": ".py",
   "mimetype": "text/x-python",
   "name": "python",
   "nbconvert_exporter": "python",
   "pygments_lexer": "ipython3",
   "version": "3.8.3"
  }
 },
 "nbformat": 4,
 "nbformat_minor": 4
}
