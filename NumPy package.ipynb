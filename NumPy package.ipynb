{
 "cells": [
  {
   "cell_type": "markdown",
   "metadata": {},
   "source": [
    "# NUMPY PACKAGE<hr>"
   ]
  },
  {
   "cell_type": "code",
   "execution_count": 1,
   "metadata": {},
   "outputs": [],
   "source": [
    "#import numpy package\n",
    "import numpy as np\n"
   ]
  },
  {
   "cell_type": "markdown",
   "metadata": {},
   "source": [
    "# 1. CREATING NUMPY ARRAY USING LIST"
   ]
  },
  {
   "cell_type": "markdown",
   "metadata": {},
   "source": [
    "# Convert List into numpy array"
   ]
  },
  {
   "cell_type": "code",
   "execution_count": 2,
   "metadata": {},
   "outputs": [
    {
     "data": {
      "text/plain": [
       "array([23,  3,  9,  4,  5, 12, 34])"
      ]
     },
     "execution_count": 2,
     "metadata": {},
     "output_type": "execute_result"
    }
   ],
   "source": [
    "# creating a list\n",
    "\n",
    "xx = [23,3,9,4,5,12,34]\n",
    "\n",
    "#converting simple list into numpy 1-D array \n",
    "arr = np.array(xx)\n",
    "\n",
    "#printing numpy array\n",
    "arr"
   ]
  },
  {
   "cell_type": "code",
   "execution_count": 3,
   "metadata": {},
   "outputs": [
    {
     "data": {
      "text/plain": [
       "array([[23,  3,  9,  4,  5, 12, 34],\n",
       "       [ 4, 43, 14, 55, 66, 66,  8]])"
      ]
     },
     "execution_count": 3,
     "metadata": {},
     "output_type": "execute_result"
    }
   ],
   "source": [
    "# creating a list of list\n",
    "\n",
    "xxx =[\n",
    "    \n",
    "        [23,3,9,4,5,12,34],\n",
    "        [4,43,14,55,66,66,8]\n",
    "   ] \n",
    "\n",
    "#converting simple list into numpy 2-D array \n",
    "arr2 = np.array(xxx)\n",
    "\n",
    "#printing numpy array\n",
    "arr2"
   ]
  },
  {
   "cell_type": "code",
   "execution_count": 4,
   "metadata": {},
   "outputs": [
    {
     "data": {
      "text/plain": [
       "array([[[[23,  3,  9,  4,  5, 12, 34],\n",
       "         [ 4, 43, 14, 55, 66, 66,  8],\n",
       "         [32, 53, 65, 78,  9,  0, 10]],\n",
       "\n",
       "        [[23,  3,  9,  4,  5, 12, 34],\n",
       "         [ 4, 43, 14, 55, 66, 66,  8],\n",
       "         [32, 53, 65, 78,  9,  0, 10]]]])"
      ]
     },
     "execution_count": 4,
     "metadata": {},
     "output_type": "execute_result"
    }
   ],
   "source": [
    "# creating a list of list of list\n",
    "\n",
    "xxx =[[[\n",
    "        [23,3,9,4,5,12,34],\n",
    "        [4,43,14,55,66,66,8],\n",
    "        [32,53,65,78,9,0,10]],\n",
    "      [\n",
    "        [23,3,9,4,5,12,34],\n",
    "        [4,43,14,55,66,66,8],\n",
    "        [32,53,65,78,9,0,10]\n",
    "          \n",
    "      ]]]\n",
    "\n",
    "#converting simple list into numpy 3-D array \n",
    "arr2 = np.array(xxx)\n",
    "\n",
    "#printing numpy array\n",
    "arr2"
   ]
  },
  {
   "cell_type": "markdown",
   "metadata": {},
   "source": [
    "# CREATING NUMPY ARRAY USING \n",
    "#### arange()\n",
    "#### ones\n",
    "#### zeros"
   ]
  },
  {
   "cell_type": "code",
   "execution_count": 5,
   "metadata": {},
   "outputs": [
    {
     "data": {
      "text/plain": [
       "array([[[0, 0, 0, 0, 0],\n",
       "        [0, 0, 0, 0, 0],\n",
       "        [0, 0, 0, 0, 0],\n",
       "        [0, 0, 0, 0, 0],\n",
       "        [0, 0, 0, 0, 0]],\n",
       "\n",
       "       [[0, 0, 0, 0, 0],\n",
       "        [0, 0, 0, 0, 0],\n",
       "        [0, 0, 0, 0, 0],\n",
       "        [0, 0, 0, 0, 0],\n",
       "        [0, 0, 0, 0, 0]],\n",
       "\n",
       "       [[0, 0, 0, 0, 0],\n",
       "        [0, 0, 0, 0, 0],\n",
       "        [0, 0, 0, 0, 0],\n",
       "        [0, 0, 0, 0, 0],\n",
       "        [0, 0, 0, 0, 0]]])"
      ]
     },
     "execution_count": 5,
     "metadata": {},
     "output_type": "execute_result"
    }
   ],
   "source": [
    "# create zeros array\n",
    "# use it if you to initialize an array and change later\n",
    "\n",
    "np.zeros((3,5,5),dtype=int)"
   ]
  },
  {
   "cell_type": "code",
   "execution_count": 6,
   "metadata": {},
   "outputs": [
    {
     "data": {
      "text/plain": [
       "array([1., 1., 1., 1.])"
      ]
     },
     "execution_count": 6,
     "metadata": {},
     "output_type": "execute_result"
    }
   ],
   "source": [
    "# create ones array 1-D\n",
    "# use it if you to initialize an array and change later\n",
    "\n",
    "np.ones(4)"
   ]
  },
  {
   "cell_type": "code",
   "execution_count": 7,
   "metadata": {},
   "outputs": [
    {
     "data": {
      "text/plain": [
       "array([[1., 1., 1., 1.],\n",
       "       [1., 1., 1., 1.],\n",
       "       [1., 1., 1., 1.]])"
      ]
     },
     "execution_count": 7,
     "metadata": {},
     "output_type": "execute_result"
    }
   ],
   "source": [
    "# create ones array 2-D\n",
    "# use it if you to initialize an array and change later\n",
    "\n",
    "np.ones((3,4))"
   ]
  },
  {
   "cell_type": "code",
   "execution_count": 8,
   "metadata": {},
   "outputs": [
    {
     "data": {
      "text/plain": [
       "array([[[1., 1., 1., 1.],\n",
       "        [1., 1., 1., 1.],\n",
       "        [1., 1., 1., 1.]],\n",
       "\n",
       "       [[1., 1., 1., 1.],\n",
       "        [1., 1., 1., 1.],\n",
       "        [1., 1., 1., 1.]]])"
      ]
     },
     "execution_count": 8,
     "metadata": {},
     "output_type": "execute_result"
    }
   ],
   "source": [
    "# create ones array 3-D\n",
    "# use it if you to initialize an array and change later\n",
    "\n",
    "np.ones((2,3,4))"
   ]
  },
  {
   "cell_type": "code",
   "execution_count": 9,
   "metadata": {},
   "outputs": [
    {
     "data": {
      "text/plain": [
       "array([[1.29057331e-311, 6.27463370e-322, 0.00000000e+000,\n",
       "        0.00000000e+000, 1.42419937e-306],\n",
       "       [5.30276956e+180, 1.57076922e-076, 6.97936820e-076,\n",
       "        5.06871941e-086, 3.35908919e-143],\n",
       "       [6.01433264e+175, 6.93885958e+218, 5.56218858e+180,\n",
       "        3.94356143e+180, 3.77256650e-061],\n",
       "       [1.28025492e+161, 2.08799460e-076, 1.25735739e-071,\n",
       "        5.51350129e-144, 1.50008929e+248]])"
      ]
     },
     "execution_count": 9,
     "metadata": {},
     "output_type": "execute_result"
    }
   ],
   "source": [
    "#  to create an empty array (we can not predicte the content of the array)\n",
    " # arange is function to create 1-D array\n",
    "np.empty((4,5))\n"
   ]
  },
  {
   "cell_type": "code",
   "execution_count": 10,
   "metadata": {},
   "outputs": [
    {
     "data": {
      "text/plain": [
       "array([ 1,  3,  5,  7,  9, 11, 13, 15, 17, 19, 21, 23, 25, 27, 29, 31, 33,\n",
       "       35, 37, 39, 41, 43, 45, 47, 49, 51, 53, 55, 57, 59, 61, 63, 65, 67,\n",
       "       69, 71, 73, 75, 77, 79, 81, 83, 85, 87, 89, 91, 93, 95, 97, 99])"
      ]
     },
     "execution_count": 10,
     "metadata": {},
     "output_type": "execute_result"
    }
   ],
   "source": [
    "#  to create an array using arange(arg1)\n",
    "\n",
    "np.arange(1,100,2)"
   ]
  },
  {
   "cell_type": "code",
   "execution_count": 11,
   "metadata": {},
   "outputs": [
    {
     "data": {
      "text/plain": [
       "array([1. , 1.6, 2.2, 2.8, 3.4, 4. ])"
      ]
     },
     "execution_count": 11,
     "metadata": {},
     "output_type": "execute_result"
    }
   ],
   "source": [
    "#  to create an array using linespace(), linespace() wil create arrays with specified number of elements\n",
    "# spaced equally between the specified begining and end values\n",
    "\n",
    "np.linspace(1,4,6)"
   ]
  },
  {
   "cell_type": "code",
   "execution_count": 12,
   "metadata": {},
   "outputs": [
    {
     "data": {
      "text/plain": [
       "array([[[0, 0, 0, 0],\n",
       "        [1, 1, 1, 1],\n",
       "        [2, 2, 2, 2],\n",
       "        [3, 3, 3, 3]],\n",
       "\n",
       "       [[0, 1, 2, 3],\n",
       "        [0, 1, 2, 3],\n",
       "        [0, 1, 2, 3],\n",
       "        [0, 1, 2, 3]]])"
      ]
     },
     "execution_count": 12,
     "metadata": {},
     "output_type": "execute_result"
    }
   ],
   "source": [
    "#  to create an array using indeices(), indeices() wil create a set of arrays (STACKED as a one-higher dimensioned array(), \n",
    "#one per dimension with each representing variation in that dimension\n",
    "\n",
    "np.indices((4,4))"
   ]
  },
  {
   "cell_type": "code",
   "execution_count": 13,
   "metadata": {},
   "outputs": [
    {
     "data": {
      "text/plain": [
       "array([0.72168766, 0.12723406, 0.73127833, 0.58836857, 0.94280277,\n",
       "       0.15992914, 0.0176553 , 0.12234098, 0.30242932, 0.98575405])"
      ]
     },
     "execution_count": 13,
     "metadata": {},
     "output_type": "execute_result"
    }
   ],
   "source": [
    "np.random.random(10)"
   ]
  },
  {
   "cell_type": "markdown",
   "metadata": {},
   "source": [
    "# 24.11.2020 Numpy"
   ]
  },
  {
   "cell_type": "code",
   "execution_count": 22,
   "metadata": {},
   "outputs": [],
   "source": [
    "a = np.array(\n",
    "[\n",
    "    [2,3,5,6,7],\n",
    "    [12,13,14,15,16],\n",
    "    [22,23,24,25,26]\n",
    "])\n",
    "\n",
    "c = np.array(\n",
    "[\n",
    "    [0,1,2,3,4],\n",
    "    [10,11,12,13,14],\n",
    "    [20,21,22,23,24]\n",
    "])\n"
   ]
  },
  {
   "cell_type": "markdown",
   "metadata": {},
   "source": [
    "## Transpose numpy array"
   ]
  },
  {
   "cell_type": "code",
   "execution_count": 18,
   "metadata": {},
   "outputs": [
    {
     "data": {
      "text/plain": [
       "array([[ 2, 12, 22],\n",
       "       [ 3, 13, 23],\n",
       "       [ 5, 14, 24],\n",
       "       [ 6, 15, 25],\n",
       "       [ 7, 16, 26]])"
      ]
     },
     "execution_count": 18,
     "metadata": {},
     "output_type": "execute_result"
    }
   ],
   "source": [
    "a.T"
   ]
  },
  {
   "cell_type": "markdown",
   "metadata": {},
   "source": [
    "## Flipping nuumpy array"
   ]
  },
  {
   "cell_type": "code",
   "execution_count": 30,
   "metadata": {},
   "outputs": [
    {
     "name": "stdout",
     "output_type": "stream",
     "text": [
      "[[ 0  1  2  3  4]\n",
      " [10 11 12 13 14]\n",
      " [20 21 22 23 24]] \n",
      "\n",
      "Flipped array==> \n",
      " [[ 4  3  2  1  0]\n",
      " [14 13 12 11 10]\n",
      " [24 23 22 21 20]]\n"
     ]
    }
   ],
   "source": [
    "#Printing original array\n",
    "print(c, \"\\n\")\n",
    "\n",
    "#Printing flipped array\n",
    "print(\"Flipped array==> \\n\" ,np.flip(c,axis=1))"
   ]
  },
  {
   "cell_type": "markdown",
   "metadata": {},
   "source": [
    "# broadcast in numpy array"
   ]
  },
  {
   "cell_type": "code",
   "execution_count": 33,
   "metadata": {},
   "outputs": [],
   "source": [
    "xx = np.array(\n",
    "[\n",
    "    [2,3,5,6,7],\n",
    "    [12,13,14,15,16],\n",
    "    [22,23,24,25,26]\n",
    "])\n",
    "\n",
    "yy = np.array(\n",
    "[\n",
    "    [2,2,2,2,2]\n",
    "])"
   ]
  },
  {
   "cell_type": "code",
   "execution_count": 38,
   "metadata": {},
   "outputs": [
    {
     "data": {
      "text/plain": [
       "array([[ 4,  5,  7,  8,  9],\n",
       "       [14, 15, 16, 17, 18],\n",
       "       [24, 25, 26, 27, 28]])"
      ]
     },
     "execution_count": 38,
     "metadata": {},
     "output_type": "execute_result"
    }
   ],
   "source": [
    "xx + yy"
   ]
  },
  {
   "cell_type": "code",
   "execution_count": 39,
   "metadata": {},
   "outputs": [
    {
     "data": {
      "text/plain": [
       "array([[ 4,  6, 10, 12, 14],\n",
       "       [24, 26, 28, 30, 32],\n",
       "       [44, 46, 48, 50, 52]])"
      ]
     },
     "execution_count": 39,
     "metadata": {},
     "output_type": "execute_result"
    }
   ],
   "source": [
    "xx * yy"
   ]
  },
  {
   "cell_type": "code",
   "execution_count": 41,
   "metadata": {},
   "outputs": [],
   "source": [
    "xxx = np.array([2,3,5,6,7])\n",
    "\n",
    "yyy = np.array(\n",
    "[\n",
    "    [2],[2],[2],[2],[2]\n",
    "])"
   ]
  },
  {
   "cell_type": "code",
   "execution_count": 42,
   "metadata": {},
   "outputs": [
    {
     "data": {
      "text/plain": [
       "array([[2],\n",
       "       [2],\n",
       "       [2],\n",
       "       [2],\n",
       "       [2]])"
      ]
     },
     "execution_count": 42,
     "metadata": {},
     "output_type": "execute_result"
    }
   ],
   "source": [
    "yyy"
   ]
  },
  {
   "cell_type": "code",
   "execution_count": 43,
   "metadata": {},
   "outputs": [
    {
     "data": {
      "text/plain": [
       "array([[4, 5, 7, 8, 9],\n",
       "       [4, 5, 7, 8, 9],\n",
       "       [4, 5, 7, 8, 9],\n",
       "       [4, 5, 7, 8, 9],\n",
       "       [4, 5, 7, 8, 9]])"
      ]
     },
     "execution_count": 43,
     "metadata": {},
     "output_type": "execute_result"
    }
   ],
   "source": [
    "xxx+yyy"
   ]
  },
  {
   "cell_type": "code",
   "execution_count": 59,
   "metadata": {},
   "outputs": [],
   "source": [
    "import matplotlib.pyplot as plt\n",
    "#import scipy.misc\n",
    "#import imageio\n",
    "\n",
    "\n",
    "#read image\n",
    "#img = imageio.imread('img/download.jpg')\n",
    "image = plt.imread('img/download.jpg')"
   ]
  },
  {
   "cell_type": "code",
   "execution_count": 71,
   "metadata": {},
   "outputs": [
    {
     "data": {
      "text/plain": [
       "<matplotlib.image.AxesImage at 0x2603770fb20>"
      ]
     },
     "execution_count": 71,
     "metadata": {},
     "output_type": "execute_result"
    },
    {
     "data": {
      "image/png": "[encoded data removed]",
      "text/plain": [
       "<Figure size 432x288 with 1 Axes>"
      ]
     },
     "metadata": {
      "needs_background": "light"
     },
     "output_type": "display_data"
    }
   ],
   "source": [
    "plt.imshow(np.flip(image,axis=1))"
   ]
  },
  {
   "cell_type": "code",
   "execution_count": 72,
   "metadata": {},
   "outputs": [
    {
     "data": {
      "text/plain": [
       "<matplotlib.image.AxesImage at 0x260377cc2e0>"
      ]
     },
     "execution_count": 72,
     "metadata": {},
     "output_type": "execute_result"
    },
    {
     "data": {
      "image/png": "[encoded data removed]",
      "text/plain": [
       "<Figure size 432x288 with 1 Axes>"
      ]
     },
     "metadata": {
      "needs_background": "light"
     },
     "output_type": "display_data"
    }
   ],
   "source": [
    "plt.imshow(image)"
   ]
  },
  {
   "cell_type": "code",
   "execution_count": 73,
   "metadata": {},
   "outputs": [],
   "source": [
    "flipped_img = np.flip(image,axis=1)"
   ]
  },
  {
   "cell_type": "code",
   "execution_count": 75,
   "metadata": {},
   "outputs": [],
   "source": [
    "plt.imsave('img/flipped.png',flipped_img)"
   ]
  },
  {
   "cell_type": "markdown",
   "metadata": {},
   "source": [
    "# Tinting image by broadcasting image array"
   ]
  },
  {
   "cell_type": "code",
   "execution_count": 98,
   "metadata": {},
   "outputs": [
    {
     "name": "stderr",
     "output_type": "stream",
     "text": [
      "Lossy conversion from float64 to uint8. Range [0.0, 255.0]. Convert image to uint8 prior to saving to suppress this warning.\n"
     ]
    },
    {
     "name": "stdout",
     "output_type": "stream",
     "text": [
      "uint8 (225, 225, 3)\n"
     ]
    }
   ],
   "source": [
    "import imageio\n",
    "\n",
    "image = imageio.imread('img/download.jpg')\n",
    "print(image.dtype, image.shape) \n",
    "\n",
    "img_tinted = image * [1,0.95,0.9]\n",
    "\n",
    "#plt.imsave(\"img/tinted_image.png\", img_tinted)\n",
    "imageio.imsave(\"img/tinted_image.png\", img_tinted)\n",
    "#plt.imshow(img_tinted) "
   ]
  },
  {
   "cell_type": "code",
   "execution_count": 90,
   "metadata": {},
   "outputs": [
    {
     "data": {
      "text/plain": [
       "array([[[212.  , 221.35, 226.8 ],\n",
       "        [212.  , 221.35, 226.8 ],\n",
       "        [213.  , 222.3 , 227.7 ],\n",
       "        ...,\n",
       "        [216.  , 226.1 , 226.8 ],\n",
       "        [216.  , 226.1 , 226.8 ],\n",
       "        [217.  , 227.05, 227.7 ]],\n",
       "\n",
       "       [[212.  , 221.35, 226.8 ],\n",
       "        [212.  , 221.35, 226.8 ],\n",
       "        [213.  , 222.3 , 227.7 ],\n",
       "        ...,\n",
       "        [216.  , 226.1 , 226.8 ],\n",
       "        [216.  , 226.1 , 226.8 ],\n",
       "        [217.  , 227.05, 227.7 ]],\n",
       "\n",
       "       [[212.  , 221.35, 226.8 ],\n",
       "        [212.  , 221.35, 226.8 ],\n",
       "        [213.  , 222.3 , 227.7 ],\n",
       "        ...,\n",
       "        [216.  , 226.1 , 226.8 ],\n",
       "        [216.  , 226.1 , 226.8 ],\n",
       "        [216.  , 226.1 , 226.8 ]],\n",
       "\n",
       "       ...,\n",
       "\n",
       "       [[194.  , 210.9 , 218.7 ],\n",
       "        [194.  , 210.9 , 218.7 ],\n",
       "        [194.  , 210.9 , 218.7 ],\n",
       "        ...,\n",
       "        [216.  , 226.1 , 226.8 ],\n",
       "        [216.  , 226.1 , 226.8 ],\n",
       "        [218.  , 228.  , 228.6 ]],\n",
       "\n",
       "       [[194.  , 210.9 , 218.7 ],\n",
       "        [194.  , 210.9 , 218.7 ],\n",
       "        [194.  , 210.9 , 218.7 ],\n",
       "        ...,\n",
       "        [216.  , 226.1 , 226.8 ],\n",
       "        [216.  , 226.1 , 226.8 ],\n",
       "        [218.  , 228.  , 228.6 ]],\n",
       "\n",
       "       [[195.  , 211.85, 219.6 ],\n",
       "        [195.  , 211.85, 219.6 ],\n",
       "        [195.  , 211.85, 219.6 ],\n",
       "        ...,\n",
       "        [218.  , 228.  , 228.6 ],\n",
       "        [218.  , 228.  , 228.6 ],\n",
       "        [216.  , 226.1 , 226.8 ]]])"
      ]
     },
     "execution_count": 90,
     "metadata": {},
     "output_type": "execute_result"
    }
   ],
   "source": [
    "img_tinted"
   ]
  },
  {
   "cell_type": "code",
   "execution_count": null,
   "metadata": {},
   "outputs": [],
   "source": []
  }
 ],
 "metadata": {
  "kernelspec": {
   "display_name": "Python 3",
   "language": "python",
   "name": "python3"
  },
  "language_info": {
   "codemirror_mode": {
    "name": "ipython",
    "version": 3
   },
   "file_extension": ".py",
   "mimetype": "text/x-python",
   "name": "python",
   "nbconvert_exporter": "python",
   "pygments_lexer": "ipython3",
   "version": "3.8.3"
  }
 },
 "nbformat": 4,
 "nbformat_minor": 4
}
