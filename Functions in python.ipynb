{
 "cells": [
  {
   "cell_type": "code",
   "execution_count": 7,
   "metadata": {},
   "outputs": [
    {
     "data": {
      "text/plain": [
       "24"
      ]
     },
     "execution_count": 7,
     "metadata": {},
     "output_type": "execute_result"
    }
   ],
   "source": [
    "#def a function for addition of two numbers\n",
    "\n",
    "def Add(n1,n2): # n1 & n2 are parameters\n",
    "    \"\"\" ADD FUNCTION TAKES TWO NUMBERS AND RETURN THE SUMMATION OF THOSE TWO NUMBERS\"\"\"\n",
    "    return n1+n2\n",
    "\n",
    "#calling Add() function & passing two argements\n",
    "Add(12,12)"
   ]
  },
  {
   "cell_type": "code",
   "execution_count": 10,
   "metadata": {},
   "outputs": [
    {
     "data": {
      "text/plain": [
       "50"
      ]
     },
     "execution_count": 10,
     "metadata": {},
     "output_type": "execute_result"
    }
   ],
   "source": [
    "#def a function for addition of two numbers WITH DEFAULT VALUES\n",
    "\n",
    "def Add(n1=0,n2=0): # n1 & n2 are parameters\n",
    "    \"\"\" ADD FUNCTION TAKES TWO NUMBERS AND RETURN THE SUMMATION OF THOSE TWO NUMBERS\"\"\"\n",
    "    return n1+n2\n",
    "\n",
    "#calling Add() function & passing two argements\n",
    "Add(45,5)"
   ]
  },
  {
   "cell_type": "code",
   "execution_count": 11,
   "metadata": {},
   "outputs": [
    {
     "data": {
      "text/plain": [
       "17"
      ]
     },
     "execution_count": 11,
     "metadata": {},
     "output_type": "execute_result"
    }
   ],
   "source": [
    "#def a function for addition of two numbers WITH DEFAULT VALUES AND KEY WORDS ARGUMENTS\n",
    "\n",
    "def Add(n1=0,n2=0): # n1 & n2 are parameters\n",
    "    \"\"\" ADD FUNCTION TAKES TWO NUMBERS AND RETURN THE SUMMATION OF THOSE TWO NUMBERS\"\"\"\n",
    "    return n1+n2\n",
    "\n",
    "#calling Add() function & passing two argements\n",
    "Add(n2=12,n1=5)"
   ]
  },
  {
   "cell_type": "code",
   "execution_count": 12,
   "metadata": {},
   "outputs": [
    {
     "data": {
      "text/plain": [
       "59"
      ]
     },
     "execution_count": 12,
     "metadata": {},
     "output_type": "execute_result"
    }
   ],
   "source": [
    "#Arbitrary arguments\n",
    "\n",
    "def Add(*numbers): # n1 & n2 are parameters\n",
    "    \"\"\" ADD FUNCTION TAKES TWO NUMBERS AND RETURN THE SUMMATION OF THOSE TWO NUMBERS\"\"\"\n",
    "    sum = 0\n",
    "    for n in numbers:\n",
    "        sum +=n\n",
    "    return sum\n",
    "\n",
    "#calling Add() function & passing two argements\n",
    "Add(45,5,2,3,4)"
   ]
  },
  {
   "cell_type": "code",
   "execution_count": 14,
   "metadata": {},
   "outputs": [
    {
     "data": {
      "text/plain": [
       "5.428571428571429"
      ]
     },
     "execution_count": 14,
     "metadata": {},
     "output_type": "execute_result"
    }
   ],
   "source": [
    "#def a function for calculating average of numbers\n",
    "\n",
    "def Aavg(*n): # n1 & n2 are parameters\n",
    "    \"\"\" Calculating average\"\"\"\n",
    "    counter = 0\n",
    "    sum = 0\n",
    "    \n",
    "    for k in n:\n",
    "        sum +=k\n",
    "        counter +=1\n",
    "        \n",
    "    return sum/counter\n",
    "\n",
    "#calling avg()\n",
    "Aavg(2,4,5,4,9,7,7)"
   ]
  },
  {
   "cell_type": "code",
   "execution_count": 22,
   "metadata": {},
   "outputs": [
    {
     "name": "stdout",
     "output_type": "stream",
     "text": [
      "[3, 5, 11, 9, 7]\n"
     ]
    }
   ],
   "source": [
    "#def a function for calculating average of numbers\n",
    "\n",
    "def Aavg(*n): # n1 & n2 are parameters\n",
    "    \"\"\" Funding odd numbers and print them out on screen\"\"\"\n",
    "    mylist = []\n",
    "    for k in n:\n",
    "        if k%2!=0:\n",
    "            mylist.append(k)\n",
    "            #print(k,end=\" \")\n",
    "    print(mylist)   \n",
    "\n",
    "#calling avg()\n",
    "Aavg(2,4,3,5,11,4,9,7,14)"
   ]
  },
  {
   "cell_type": "code",
   "execution_count": 24,
   "metadata": {},
   "outputs": [
    {
     "name": "stdout",
     "output_type": "stream",
     "text": [
      "4\n",
      "1\n"
     ]
    }
   ],
   "source": [
    "# function to find absolute number of a given number\n",
    "\n",
    "def abs(*numbers):\n",
    "    \n",
    "    \"\"\"Funding absolute value of a given number\"\"\"\n",
    "    a = -1\n",
    "    \n",
    "    for i in numbers:\n",
    "        if i<0:\n",
    "            print(i*a)\n",
    "abs(5,-4,11,-1)"
   ]
  },
  {
   "cell_type": "code",
   "execution_count": null,
   "metadata": {},
   "outputs": [],
   "source": []
  }
 ],
 "metadata": {
  "kernelspec": {
   "display_name": "Python 3",
   "language": "python",
   "name": "python3"
  },
  "language_info": {
   "codemirror_mode": {
    "name": "ipython",
    "version": 3
   },
   "file_extension": ".py",
   "mimetype": "text/x-python",
   "name": "python",
   "nbconvert_exporter": "python",
   "pygments_lexer": "ipython3",
   "version": "3.8.3"
  }
 },
 "nbformat": 4,
 "nbformat_minor": 4
}
