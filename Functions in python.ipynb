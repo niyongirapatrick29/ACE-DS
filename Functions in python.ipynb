{
 "cells": [
  {
   "cell_type": "code",
   "execution_count": null,
   "metadata": {},
   "outputs": [],
   "source": [
    "#def a function for addition of two numbers\n",
    "\n",
    "def Add(n1,n2): # n1 & n2 are parameters\n",
    "    \"\"\" ADD FUNCTION TAKES TWO NUMBERS AND RETURN THE SUMMATION OF THOSE TWO NUMBERS\"\"\"\n",
    "    return n1+n2\n",
    "\n",
    "#calling Add() function & passing two argements\n",
    "Add(12,12)"
   ]
  },
  {
   "cell_type": "code",
   "execution_count": null,
   "metadata": {},
   "outputs": [],
   "source": [
    "#def a function for addition of two numbers WITH DEFAULT VALUES\n",
    "\n",
    "def Add(n1=0,n2=0): # n1 & n2 are parameters\n",
    "    \"\"\" ADD FUNCTION TAKES TWO NUMBERS AND RETURN THE SUMMATION OF THOSE TWO NUMBERS\"\"\"\n",
    "    return n1+n2\n",
    "\n",
    "#calling Add() function & passing two argements\n",
    "Add(45,5)"
   ]
  },
  {
   "cell_type": "code",
   "execution_count": null,
   "metadata": {},
   "outputs": [],
   "source": [
    "#def a function for addition of two numbers WITH DEFAULT VALUES AND KEY WORDS ARGUMENTS\n",
    "\n",
    "def Add(n1=0,n2=0): # n1 & n2 are parameters\n",
    "    \"\"\" ADD FUNCTION TAKES TWO NUMBERS AND RETURN THE SUMMATION OF THOSE TWO NUMBERS\"\"\"\n",
    "    return n1+n2\n",
    "\n",
    "#calling Add() function & passing two argements\n",
    "Add(n2=12,n1=5)"
   ]
  },
  {
   "cell_type": "code",
   "execution_count": null,
   "metadata": {},
   "outputs": [],
   "source": [
    "#Arbitrary arguments\n",
    "\n",
    "def Add(*numbers): # n1 & n2 are parameters\n",
    "    \"\"\" ADD FUNCTION TAKES TWO NUMBERS AND RETURN THE SUMMATION OF THOSE TWO NUMBERS\"\"\"\n",
    "    sum = 0\n",
    "    for n in numbers:\n",
    "        sum +=n\n",
    "    return sum\n",
    "\n",
    "#calling Add() function & passing two argements\n",
    "Add(45,5,2,3,4)"
   ]
  },
  {
   "cell_type": "code",
   "execution_count": null,
   "metadata": {},
   "outputs": [],
   "source": [
    "#def a function for calculating average of numbers\n",
    "\n",
    "def Aavg(*n): # n1 & n2 are parameters\n",
    "    \"\"\" Calculating average\"\"\"\n",
    "    counter = 0\n",
    "    sum = 0\n",
    "    \n",
    "    for k in n:\n",
    "        sum +=k\n",
    "        counter +=1\n",
    "        \n",
    "    return sum/counter\n",
    "\n",
    "#calling avg()\n",
    "Aavg(2,4,5,4,9,7,7)"
   ]
  },
  {
   "cell_type": "code",
   "execution_count": 3,
   "metadata": {},
   "outputs": [
    {
     "name": "stdout",
     "output_type": "stream",
     "text": [
      "[3, 5, 11, 9, 7]\n"
     ]
    }
   ],
   "source": [
    "#def a function for calculating average of numbers\n",
    "\n",
    "def Fodd(*n): # n1 & n2 are parameters\n",
    "    \"\"\" Funding odd numbers and print them out on screen\"\"\"\n",
    "    mylist = []\n",
    "    for k in n:\n",
    "        if k%2!=0:\n",
    "            mylist.append(k)\n",
    "            #print(k,end=\" \")\n",
    "    print(mylist)   \n",
    "\n",
    "#calling avg()\n",
    "Fodd(2,4,3,5,11,4,9,7,14)"
   ]
  },
  {
   "cell_type": "code",
   "execution_count": 2,
   "metadata": {},
   "outputs": [
    {
     "name": "stdout",
     "output_type": "stream",
     "text": [
      "1\n"
     ]
    }
   ],
   "source": [
    "# function to find absolute number of a given number\n",
    "\n",
    "def abs(*numbers):\n",
    "    \n",
    "    \"\"\"Funding absolute value of a given number\"\"\"\n",
    "    a = -1\n",
    "    \n",
    "    for i in numbers:\n",
    "        if i<0:\n",
    "            print(i*a)\n",
    "abs(-1)"
   ]
  },
  {
   "cell_type": "code",
   "execution_count": 1,
   "metadata": {},
   "outputs": [
    {
     "name": "stdout",
     "output_type": "stream",
     "text": [
      "7.25\n"
     ]
    }
   ],
   "source": [
    "x = abs(-7.25)\n",
    "\n",
    "print(x)"
   ]
  },
  {
   "cell_type": "markdown",
   "metadata": {},
   "source": [
    "# types of variable"
   ]
  },
  {
   "cell_type": "code",
   "execution_count": 4,
   "metadata": {},
   "outputs": [
    {
     "name": "stdout",
     "output_type": "stream",
     "text": [
      "1\n"
     ]
    }
   ],
   "source": [
    "# Local variable\n",
    "\n",
    "def display():\n",
    "    num = 1;\n",
    "    print(num)\n",
    "    \n",
    "display()"
   ]
  },
  {
   "cell_type": "code",
   "execution_count": 6,
   "metadata": {},
   "outputs": [
    {
     "name": "stdout",
     "output_type": "stream",
     "text": [
      "1\n",
      "1\n"
     ]
    }
   ],
   "source": [
    "# Global variable\n",
    "\n",
    "num = 1;\n",
    "def display():\n",
    "    print(num)\n",
    "    \n",
    "display()\n",
    "print(num)"
   ]
  },
  {
   "cell_type": "code",
   "execution_count": 9,
   "metadata": {},
   "outputs": [
    {
     "name": "stdout",
     "output_type": "stream",
     "text": [
      "20\n",
      "20\n"
     ]
    }
   ],
   "source": [
    "# Modify global variable \n",
    "num = 5 #Global variable\n",
    "\n",
    "def xyz():\n",
    "    global num\n",
    "    num = 20 #Local variable\n",
    "    print(num)\n",
    "xyz()\n",
    "print(num)"
   ]
  },
  {
   "cell_type": "code",
   "execution_count": 16,
   "metadata": {},
   "outputs": [
    {
     "name": "stdout",
     "output_type": "stream",
     "text": [
      "4 ! =  24\n"
     ]
    }
   ],
   "source": [
    "# function to calculate factorial of a number\n",
    "\n",
    "def fact(n):\n",
    "    i=1\n",
    "    fac=1\n",
    "    while i<=n:\n",
    "        fac = fac*i\n",
    "        i +=1\n",
    "    print(n,\"! = \",fac)\n",
    "    \n",
    "fact(4)"
   ]
  },
  {
   "cell_type": "code",
   "execution_count": null,
   "metadata": {},
   "outputs": [],
   "source": []
  }
 ],
 "metadata": {
  "kernelspec": {
   "display_name": "Python 3",
   "language": "python",
   "name": "python3"
  },
  "language_info": {
   "codemirror_mode": {
    "name": "ipython",
    "version": 3
   },
   "file_extension": ".py",
   "mimetype": "text/x-python",
   "name": "python",
   "nbconvert_exporter": "python",
   "pygments_lexer": "ipython3",
   "version": "3.8.3"
  }
 },
 "nbformat": 4,
 "nbformat_minor": 4
}
