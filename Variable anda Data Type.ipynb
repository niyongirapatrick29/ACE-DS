{
 "cells": [
  {
   "cell_type": "markdown",
   "metadata": {},
   "source": [
    "# We use # symbol to put comment for single line <hr>"
   ]
  },
  {
   "cell_type": "code",
   "execution_count": 182,
   "metadata": {},
   "outputs": [
    {
     "name": "stdout",
     "output_type": "stream",
     "text": [
      "x =  10\n"
     ]
    }
   ],
   "source": [
    "#creating variables\n",
    "#------------------\n",
    "\n",
    "x = 10                                                                                                                                                         \n",
    "\n",
    "#printing variable values\n",
    "print(\"x = \", x )"
   ]
  },
  {
   "cell_type": "code",
   "execution_count": 183,
   "metadata": {},
   "outputs": [
    {
     "data": {
      "text/plain": [
       "2"
      ]
     },
     "execution_count": 183,
     "metadata": {},
     "output_type": "execute_result"
    }
   ],
   "source": [
    "name = 2\n",
    "name"
   ]
  },
  {
   "cell_type": "markdown",
   "metadata": {},
   "source": [
    "# Data type in python<hr>"
   ]
  },
  {
   "cell_type": "markdown",
   "metadata": {},
   "source": [
    "# String"
   ]
  },
  {
   "cell_type": "code",
   "execution_count": 184,
   "metadata": {},
   "outputs": [
    {
     "name": "stdout",
     "output_type": "stream",
     "text": [
      "KUNDAN\n"
     ]
    }
   ],
   "source": [
    "#Declaring a string \n",
    "str = \"KUNDAN\"\n",
    "print(str)"
   ]
  },
  {
   "cell_type": "code",
   "execution_count": 185,
   "metadata": {},
   "outputs": [
    {
     "name": "stdout",
     "output_type": "stream",
     "text": [
      "KUNDAN KUMAR\n"
     ]
    }
   ],
   "source": [
    "FName = 'KUNDAN'\n",
    "LName = 'KUMAR'\n",
    "\n",
    "#Concatenation\n",
    "#concatenate first name and last name with white space between them\n",
    "Fullname = FName +' '+ LName \n",
    "print(Fullname)\n",
    "\n",
    "\n"
   ]
  },
  {
   "cell_type": "code",
   "execution_count": 186,
   "metadata": {},
   "outputs": [
    {
     "name": "stdout",
     "output_type": "stream",
     "text": [
      "KUNDAN KUMAR KUNDAN KUMAR \n"
     ]
    }
   ],
   "source": [
    "#To repeat a string twice\n",
    "print((Fullname+' ') * 2)"
   ]
  },
  {
   "cell_type": "code",
   "execution_count": 187,
   "metadata": {},
   "outputs": [
    {
     "data": {
      "text/plain": [
       "'UNDA'"
      ]
     },
     "execution_count": 187,
     "metadata": {},
     "output_type": "execute_result"
    }
   ],
   "source": [
    "#Slicing a string\n",
    "substr = FName[1:5]\n",
    "substr"
   ]
  },
  {
   "cell_type": "code",
   "execution_count": 188,
   "metadata": {},
   "outputs": [
    {
     "name": "stdout",
     "output_type": "stream",
     "text": [
      "KUNDA\n",
      "NU\n",
      "NU\n"
     ]
    }
   ],
   "source": [
    "#Indexing a string\n",
    "\n",
    "print(FName[-6:-1])\n",
    "\n",
    "print(FName[-1] + FName[-5])\n",
    "print(FName[-1] + FName[1])"
   ]
  },
  {
   "cell_type": "code",
   "execution_count": 189,
   "metadata": {},
   "outputs": [
    {
     "data": {
      "text/plain": [
       "36"
      ]
     },
     "execution_count": 189,
     "metadata": {},
     "output_type": "execute_result"
    }
   ],
   "source": [
    "#Find string\n",
    "p  = \"\"\"How are you today?\n",
    "Beter than you, \n",
    "cool\"\"\"\n",
    "p.find('cool')"
   ]
  },
  {
   "cell_type": "code",
   "execution_count": 190,
   "metadata": {},
   "outputs": [
    {
     "data": {
      "text/plain": [
       "'How are you today?\\nBeter than you, \\nGreat'"
      ]
     },
     "execution_count": 190,
     "metadata": {},
     "output_type": "execute_result"
    }
   ],
   "source": [
    "#Replace\n",
    "p1 = p.replace(\"cool\",\"Great\")\n",
    "p1"
   ]
  },
  {
   "cell_type": "code",
   "execution_count": 191,
   "metadata": {},
   "outputs": [
    {
     "data": {
      "text/plain": [
       "'How'"
      ]
     },
     "execution_count": 191,
     "metadata": {},
     "output_type": "execute_result"
    }
   ],
   "source": [
    "#Strip()\n",
    "p[:4].strip()"
   ]
  },
  {
   "cell_type": "code",
   "execution_count": 192,
   "metadata": {},
   "outputs": [
    {
     "data": {
      "text/plain": [
       "2"
      ]
     },
     "execution_count": 192,
     "metadata": {},
     "output_type": "execute_result"
    }
   ],
   "source": [
    "#Counting str using count()\n",
    "p.count(\"you\")"
   ]
  },
  {
   "cell_type": "markdown",
   "metadata": {},
   "source": [
    "# Tuples\n",
    "###### Tuples is sequence of immutable python object like floating number, string , etc Tuples sequences, just like list It allows duplicates member"
   ]
  },
  {
   "cell_type": "markdown",
   "metadata": {},
   "source": [
    "# Creating tuple"
   ]
  },
  {
   "cell_type": "code",
   "execution_count": 193,
   "metadata": {},
   "outputs": [
    {
     "data": {
      "text/plain": [
       "('Eric', 'John', 'Linda', 'Marry', 'Eric', 'Claude')"
      ]
     },
     "execution_count": 193,
     "metadata": {},
     "output_type": "execute_result"
    }
   ],
   "source": [
    "studen_list = ('Eric','John','Linda','Marry','Eric','Claude')\n",
    "studen_list"
   ]
  },
  {
   "cell_type": "code",
   "execution_count": 194,
   "metadata": {},
   "outputs": [
    {
     "data": {
      "text/plain": [
       "('Eric', 'John', 'Linda', 'Marry', 'Eric', 'Claude', 'Patrick', 'Kundan')"
      ]
     },
     "execution_count": 194,
     "metadata": {},
     "output_type": "execute_result"
    }
   ],
   "source": [
    "# Tuple operations\n",
    "\n",
    "#Concatenation\n",
    "\n",
    "studen_list + ('Patrick','Kundan')"
   ]
  },
  {
   "cell_type": "code",
   "execution_count": 195,
   "metadata": {},
   "outputs": [
    {
     "data": {
      "text/plain": [
       "('Eric',\n",
       " 'John',\n",
       " 'Linda',\n",
       " 'Marry',\n",
       " 'Eric',\n",
       " 'Claude',\n",
       " 'Patrick',\n",
       " 'Kundan',\n",
       " 'Eric',\n",
       " 'John',\n",
       " 'Linda',\n",
       " 'Marry',\n",
       " 'Eric',\n",
       " 'Claude',\n",
       " 'Patrick',\n",
       " 'Kundan')"
      ]
     },
     "execution_count": 195,
     "metadata": {},
     "output_type": "execute_result"
    }
   ],
   "source": [
    "# Repetition\n",
    "(studen_list+('Patrick','Kundan'))*2"
   ]
  },
  {
   "cell_type": "code",
   "execution_count": 196,
   "metadata": {},
   "outputs": [
    {
     "data": {
      "text/plain": [
       "('John', 'Linda')"
      ]
     },
     "execution_count": 196,
     "metadata": {},
     "output_type": "execute_result"
    }
   ],
   "source": [
    "# Slicing\n",
    "\n",
    "studen_list[1:3]"
   ]
  },
  {
   "cell_type": "code",
   "execution_count": 197,
   "metadata": {},
   "outputs": [
    {
     "data": {
      "text/plain": [
       "'Claude'"
      ]
     },
     "execution_count": 197,
     "metadata": {},
     "output_type": "execute_result"
    }
   ],
   "source": [
    "#Indexing\n",
    "studen_list[-1]"
   ]
  },
  {
   "cell_type": "markdown",
   "metadata": {},
   "source": [
    "# LIST"
   ]
  },
  {
   "cell_type": "code",
   "execution_count": 198,
   "metadata": {},
   "outputs": [
    {
     "name": "stdout",
     "output_type": "stream",
     "text": [
      "Original list: \n",
      "=============\n",
      " ['Kumar', 3.6, 'Learning Python']\n"
     ]
    }
   ],
   "source": [
    "#Creating list\n",
    "\n",
    "myList = ['Kumar',3.6,'Learning Python']\n",
    "print(\"Original list: \\n=============\\n\" ,myList)\n"
   ]
  },
  {
   "cell_type": "markdown",
   "metadata": {},
   "source": [
    "# List Operations"
   ]
  },
  {
   "cell_type": "code",
   "execution_count": 199,
   "metadata": {},
   "outputs": [
    {
     "name": "stdout",
     "output_type": "stream",
     "text": [
      "Appended list: \n",
      "=============\n",
      " ['Kumar', 3.6, 'Learning Python', 'Eric']\n"
     ]
    }
   ],
   "source": [
    "# Append\n",
    "myList.append(\"Eric\")\n",
    "print(\"Appended list: \\n=============\\n\",myList)\n"
   ]
  },
  {
   "cell_type": "code",
   "execution_count": 200,
   "metadata": {},
   "outputs": [
    {
     "name": "stdout",
     "output_type": "stream",
     "text": [
      "extended list: \n",
      "=============\n",
      " ['Kumar', 3.6, 'Learning Python', 'Eric', 'Mukesha', 3.9]\n"
     ]
    }
   ],
   "source": [
    "#  Extend list\n",
    "myList.extend(['Mukesha',3.9])\n",
    "print(\"extended list: \\n=============\\n\",myList)"
   ]
  },
  {
   "cell_type": "code",
   "execution_count": 201,
   "metadata": {},
   "outputs": [
    {
     "name": "stdout",
     "output_type": "stream",
     "text": [
      "list with new inserted item: \n",
      "=============\n",
      " ['kundan', 'Kumar', 3.6, 'Learning Python', 'Eric', 'Mukesha', 3.9]\n"
     ]
    }
   ],
   "source": [
    "#Insert new element in existing list\n",
    "myList.insert(0,'kundan')\n",
    "print(\"list with new inserted item: \\n=============\\n\",myList)"
   ]
  },
  {
   "cell_type": "code",
   "execution_count": 204,
   "metadata": {},
   "outputs": [
    {
     "name": "stdout",
     "output_type": "stream",
     "text": [
      "list after poping: \n",
      "=============\n",
      " ['kundan', 'Kumar', 3.6, 'Learning Python', 'Mukesha']\n"
     ]
    }
   ],
   "source": [
    "# pop item in list (Read element from list and remove)\n",
    "myList.pop(4)\n",
    "print(\"list after poping: \\n=============\\n\",myList)"
   ]
  },
  {
   "cell_type": "code",
   "execution_count": 205,
   "metadata": {},
   "outputs": [
    {
     "name": "stdout",
     "output_type": "stream",
     "text": [
      "list after removing 'Mukesha': \n",
      "=============\n",
      " ['kundan', 'Kumar', 3.6, 'Learning Python']\n"
     ]
    }
   ],
   "source": [
    "#Remove item in list\n",
    "myList.remove('Mukesha')\n",
    "print(\"list after removing 'Mukesha': \\n=============\\n\",myList)"
   ]
  },
  {
   "cell_type": "code",
   "execution_count": null,
   "metadata": {},
   "outputs": [],
   "source": []
  },
  {
   "cell_type": "markdown",
   "metadata": {},
   "source": [
    "# SETS"
   ]
  },
  {
   "cell_type": "code",
   "execution_count": 3,
   "metadata": {},
   "outputs": [
    {
     "data": {
      "text/plain": [
       "{5, 7, 22, 23, 33}"
      ]
     },
     "execution_count": 3,
     "metadata": {},
     "output_type": "execute_result"
    }
   ],
   "source": [
    "sets = {7,23,33,22,22,33,5}\n",
    "sets"
   ]
  },
  {
   "cell_type": "code",
   "execution_count": 11,
   "metadata": {},
   "outputs": [
    {
     "name": "stdout",
     "output_type": "stream",
     "text": [
      "mySet1:  {1, 3, 4, 9, 52}\n",
      "mySet2:  {1, 3, 7, 9, 45}\n"
     ]
    }
   ],
   "source": [
    "#creating a set\n",
    "mySet1 = {9,1,4,52,3}\n",
    "mySet2 = {9,1,7,45,3}\n",
    "\n",
    "#Print set\n",
    "print(\"mySet1: \",mySet1)\n",
    "print(\"mySet2: \",mySet2)"
   ]
  },
  {
   "cell_type": "code",
   "execution_count": 12,
   "metadata": {},
   "outputs": [
    {
     "data": {
      "text/plain": [
       "{1, 3, 4, 7, 9, 45, 52}"
      ]
     },
     "execution_count": 12,
     "metadata": {},
     "output_type": "execute_result"
    }
   ],
   "source": [
    "#Union between two different sets\n",
    "unionSet = mySet1 | mySet2\n",
    "unionSet"
   ]
  },
  {
   "cell_type": "code",
   "execution_count": 13,
   "metadata": {},
   "outputs": [
    {
     "data": {
      "text/plain": [
       "{1, 3, 9}"
      ]
     },
     "execution_count": 13,
     "metadata": {},
     "output_type": "execute_result"
    }
   ],
   "source": [
    "#Intersection between different sets\n",
    "intersection = mySet1 & mySet2\n",
    "print(\"Intersectiointersection"
   ]
  },
  {
   "cell_type": "code",
   "execution_count": null,
   "metadata": {},
   "outputs": [],
   "source": []
  }
 ],
 "metadata": {
  "kernelspec": {
   "display_name": "Python 3",
   "language": "python",
   "name": "python3"
  },
  "language_info": {
   "codemirror_mode": {
    "name": "ipython",
    "version": 3
   },
   "file_extension": ".py",
   "mimetype": "text/x-python",
   "name": "python",
   "nbconvert_exporter": "python",
   "pygments_lexer": "ipython3",
   "version": "3.8.3"
  }
 },
 "nbformat": 4,
 "nbformat_minor": 4
}
